{
  "nbformat": 4,
  "nbformat_minor": 0,
  "metadata": {
    "colab": {
      "name": "Visdat_Midterm_1301180469.ipynb",
      "provenance": [],
      "collapsed_sections": [
        "KvYwEFGOlSfo"
      ]
    },
    "kernelspec": {
      "name": "python3",
      "display_name": "Python 3"
    },
    "language_info": {
      "name": "python"
    }
  },
  "cells": [
    {
      "cell_type": "markdown",
      "metadata": {
        "id": "AbaoARSThOHx"
      },
      "source": [
        "# VisDat MidTerm"
      ]
    },
    {
      "cell_type": "markdown",
      "metadata": {
        "id": "MZ15uBm0RguU"
      },
      "source": [
        "## Otniel Abiezer - 1301180469"
      ]
    },
    {
      "cell_type": "markdown",
      "metadata": {
        "id": "hulDUQnRh1KZ"
      },
      "source": [
        "Import library yang dibutuhkan"
      ]
    },
    {
      "cell_type": "code",
      "metadata": {
        "id": "Z3OFQPyAhz4t"
      },
      "source": [
        "import pandas as pd\n",
        "import numpy as np\n",
        "\n",
        "import matplotlib as mpl\n",
        "import matplotlib.pyplot as plt\n",
        "%matplotlib inline\n",
        "\n",
        "import seaborn as sns\n",
        "\n",
        "mpl.style.use(['ggplot'])\n",
        "pd.options.mode.chained_assignment = None"
      ],
      "execution_count": null,
      "outputs": []
    },
    {
      "cell_type": "markdown",
      "metadata": {
        "id": "JoRzNrCvhg8i"
      },
      "source": [
        "Import Dataset"
      ]
    },
    {
      "cell_type": "code",
      "metadata": {
        "id": "Q6w0auVvhNBt"
      },
      "source": [
        "url1 = 'https://drive.google.com/uc?id=13xLSKrh-lcKZpcxHuvdnl7nblSFILtkM'\n",
        "url2 = 'https://drive.google.com/uc?id=1bxBicsXejby574w6rThAyrtOrIyYWDV1'\n",
        "df_covid = pd.read_csv(url1)\n",
        "df_province = pd.read_csv(url2)"
      ],
      "execution_count": null,
      "outputs": []
    },
    {
      "cell_type": "markdown",
      "metadata": {
        "id": "Kips46iRieWb"
      },
      "source": [
        "## Data Exploration"
      ]
    },
    {
      "cell_type": "markdown",
      "metadata": {
        "id": "GBogLUfWjs7k"
      },
      "source": [
        "### Covid"
      ]
    },
    {
      "cell_type": "markdown",
      "metadata": {
        "id": "-or5EXr0jBfP"
      },
      "source": [
        "Isi DF Covid"
      ]
    },
    {
      "cell_type": "code",
      "metadata": {
        "colab": {
          "base_uri": "https://localhost:8080/",
          "height": 204
        },
        "id": "x6Dt6abhjE7_",
        "outputId": "78d5e95c-095a-4efb-a240-180a747b2dc9"
      },
      "source": [
        "df_covid.head()"
      ],
      "execution_count": null,
      "outputs": [
        {
          "output_type": "execute_result",
          "data": {
            "text/html": [
              "<div>\n",
              "<style scoped>\n",
              "    .dataframe tbody tr th:only-of-type {\n",
              "        vertical-align: middle;\n",
              "    }\n",
              "\n",
              "    .dataframe tbody tr th {\n",
              "        vertical-align: top;\n",
              "    }\n",
              "\n",
              "    .dataframe thead th {\n",
              "        text-align: right;\n",
              "    }\n",
              "</style>\n",
              "<table border=\"1\" class=\"dataframe\">\n",
              "  <thead>\n",
              "    <tr style=\"text-align: right;\">\n",
              "      <th></th>\n",
              "      <th>date</th>\n",
              "      <th>new_tested</th>\n",
              "      <th>acc_tested</th>\n",
              "      <th>new_confirmed</th>\n",
              "      <th>acc_confirmed</th>\n",
              "      <th>acc_negative</th>\n",
              "      <th>being_checked</th>\n",
              "      <th>isolated</th>\n",
              "    </tr>\n",
              "  </thead>\n",
              "  <tbody>\n",
              "    <tr>\n",
              "      <th>0</th>\n",
              "      <td>02-Mar-20</td>\n",
              "      <td>339</td>\n",
              "      <td>339</td>\n",
              "      <td>2</td>\n",
              "      <td>2</td>\n",
              "      <td>335</td>\n",
              "      <td>2</td>\n",
              "      <td>2</td>\n",
              "    </tr>\n",
              "    <tr>\n",
              "      <th>1</th>\n",
              "      <td>03-Mar-20</td>\n",
              "      <td>2</td>\n",
              "      <td>341</td>\n",
              "      <td>0</td>\n",
              "      <td>2</td>\n",
              "      <td>337</td>\n",
              "      <td>2</td>\n",
              "      <td>2</td>\n",
              "    </tr>\n",
              "    <tr>\n",
              "      <th>2</th>\n",
              "      <td>04-Mar-20</td>\n",
              "      <td>31</td>\n",
              "      <td>372</td>\n",
              "      <td>0</td>\n",
              "      <td>2</td>\n",
              "      <td>356</td>\n",
              "      <td>14</td>\n",
              "      <td>2</td>\n",
              "    </tr>\n",
              "    <tr>\n",
              "      <th>3</th>\n",
              "      <td>05-Mar-20</td>\n",
              "      <td>16</td>\n",
              "      <td>388</td>\n",
              "      <td>0</td>\n",
              "      <td>2</td>\n",
              "      <td>371</td>\n",
              "      <td>15</td>\n",
              "      <td>2</td>\n",
              "    </tr>\n",
              "    <tr>\n",
              "      <th>4</th>\n",
              "      <td>06-Mar-20</td>\n",
              "      <td>62</td>\n",
              "      <td>450</td>\n",
              "      <td>2</td>\n",
              "      <td>4</td>\n",
              "      <td>422</td>\n",
              "      <td>24</td>\n",
              "      <td>4</td>\n",
              "    </tr>\n",
              "  </tbody>\n",
              "</table>\n",
              "</div>"
            ],
            "text/plain": [
              "        date  new_tested  acc_tested  ...  acc_negative  being_checked  isolated\n",
              "0  02-Mar-20         339         339  ...           335              2         2\n",
              "1  03-Mar-20           2         341  ...           337              2         2\n",
              "2  04-Mar-20          31         372  ...           356             14         2\n",
              "3  05-Mar-20          16         388  ...           371             15         2\n",
              "4  06-Mar-20          62         450  ...           422             24         4\n",
              "\n",
              "[5 rows x 8 columns]"
            ]
          },
          "metadata": {},
          "execution_count": 3
        }
      ]
    },
    {
      "cell_type": "markdown",
      "metadata": {
        "id": "6CJFIvhbjTh_"
      },
      "source": [
        "Ukuran Dataframe"
      ]
    },
    {
      "cell_type": "code",
      "metadata": {
        "colab": {
          "base_uri": "https://localhost:8080/"
        },
        "id": "1IiJ8MJqjYYm",
        "outputId": "c358cb08-2426-4506-bec1-25083e3ce186"
      },
      "source": [
        "df_covid.shape"
      ],
      "execution_count": null,
      "outputs": [
        {
          "output_type": "execute_result",
          "data": {
            "text/plain": [
              "(30, 8)"
            ]
          },
          "metadata": {},
          "execution_count": 4
        }
      ]
    },
    {
      "cell_type": "markdown",
      "metadata": {
        "id": "neHoXuCNkK5u"
      },
      "source": [
        "Info tipe data Dataframe"
      ]
    },
    {
      "cell_type": "code",
      "metadata": {
        "colab": {
          "base_uri": "https://localhost:8080/"
        },
        "id": "VmL9YPOPkO78",
        "outputId": "181a7da3-e945-47a9-e0fa-7e0c78e45025"
      },
      "source": [
        "df_covid.info()"
      ],
      "execution_count": null,
      "outputs": [
        {
          "output_type": "stream",
          "name": "stdout",
          "text": [
            "<class 'pandas.core.frame.DataFrame'>\n",
            "RangeIndex: 30 entries, 0 to 29\n",
            "Data columns (total 8 columns):\n",
            " #   Column         Non-Null Count  Dtype \n",
            "---  ------         --------------  ----- \n",
            " 0   date           30 non-null     object\n",
            " 1   new_tested     30 non-null     int64 \n",
            " 2   acc_tested     30 non-null     int64 \n",
            " 3   new_confirmed  30 non-null     int64 \n",
            " 4   acc_confirmed  30 non-null     int64 \n",
            " 5   acc_negative   30 non-null     int64 \n",
            " 6   being_checked  30 non-null     int64 \n",
            " 7   isolated       30 non-null     int64 \n",
            "dtypes: int64(7), object(1)\n",
            "memory usage: 2.0+ KB\n"
          ]
        }
      ]
    },
    {
      "cell_type": "markdown",
      "metadata": {
        "id": "oqEgUSlWkSrI"
      },
      "source": [
        "Statistik Dataframe"
      ]
    },
    {
      "cell_type": "code",
      "metadata": {
        "colab": {
          "base_uri": "https://localhost:8080/",
          "height": 297
        },
        "id": "vBRU9guRkVwb",
        "outputId": "1e55ef9a-2e10-4a20-ea37-f923aef2535a"
      },
      "source": [
        "df_covid.describe()"
      ],
      "execution_count": null,
      "outputs": [
        {
          "output_type": "execute_result",
          "data": {
            "text/html": [
              "<div>\n",
              "<style scoped>\n",
              "    .dataframe tbody tr th:only-of-type {\n",
              "        vertical-align: middle;\n",
              "    }\n",
              "\n",
              "    .dataframe tbody tr th {\n",
              "        vertical-align: top;\n",
              "    }\n",
              "\n",
              "    .dataframe thead th {\n",
              "        text-align: right;\n",
              "    }\n",
              "</style>\n",
              "<table border=\"1\" class=\"dataframe\">\n",
              "  <thead>\n",
              "    <tr style=\"text-align: right;\">\n",
              "      <th></th>\n",
              "      <th>new_tested</th>\n",
              "      <th>acc_tested</th>\n",
              "      <th>new_confirmed</th>\n",
              "      <th>acc_confirmed</th>\n",
              "      <th>acc_negative</th>\n",
              "      <th>being_checked</th>\n",
              "      <th>isolated</th>\n",
              "    </tr>\n",
              "  </thead>\n",
              "  <tbody>\n",
              "    <tr>\n",
              "      <th>count</th>\n",
              "      <td>30.000000</td>\n",
              "      <td>30.000000</td>\n",
              "      <td>30.000000</td>\n",
              "      <td>30.000000</td>\n",
              "      <td>30.000000</td>\n",
              "      <td>30.000000</td>\n",
              "      <td>30.000000</td>\n",
              "    </tr>\n",
              "    <tr>\n",
              "      <th>mean</th>\n",
              "      <td>229.233333</td>\n",
              "      <td>2275.300000</td>\n",
              "      <td>50.933333</td>\n",
              "      <td>398.933333</td>\n",
              "      <td>1875.000000</td>\n",
              "      <td>13.000000</td>\n",
              "      <td>346.266667</td>\n",
              "    </tr>\n",
              "    <tr>\n",
              "      <th>std</th>\n",
              "      <td>281.828229</td>\n",
              "      <td>2153.042645</td>\n",
              "      <td>48.962993</td>\n",
              "      <td>480.433923</td>\n",
              "      <td>1680.618954</td>\n",
              "      <td>11.110728</td>\n",
              "      <td>414.461673</td>\n",
              "    </tr>\n",
              "    <tr>\n",
              "      <th>min</th>\n",
              "      <td>2.000000</td>\n",
              "      <td>339.000000</td>\n",
              "      <td>0.000000</td>\n",
              "      <td>2.000000</td>\n",
              "      <td>335.000000</td>\n",
              "      <td>0.000000</td>\n",
              "      <td>2.000000</td>\n",
              "    </tr>\n",
              "    <tr>\n",
              "      <th>25%</th>\n",
              "      <td>63.750000</td>\n",
              "      <td>580.750000</td>\n",
              "      <td>3.250000</td>\n",
              "      <td>21.000000</td>\n",
              "      <td>527.250000</td>\n",
              "      <td>0.000000</td>\n",
              "      <td>21.000000</td>\n",
              "    </tr>\n",
              "    <tr>\n",
              "      <th>50%</th>\n",
              "      <td>136.000000</td>\n",
              "      <td>1351.000000</td>\n",
              "      <td>36.500000</td>\n",
              "      <td>153.000000</td>\n",
              "      <td>1230.500000</td>\n",
              "      <td>15.000000</td>\n",
              "      <td>138.500000</td>\n",
              "    </tr>\n",
              "    <tr>\n",
              "      <th>75%</th>\n",
              "      <td>315.000000</td>\n",
              "      <td>3188.000000</td>\n",
              "      <td>97.750000</td>\n",
              "      <td>658.500000</td>\n",
              "      <td>2513.000000</td>\n",
              "      <td>20.000000</td>\n",
              "      <td>575.000000</td>\n",
              "    </tr>\n",
              "    <tr>\n",
              "      <th>max</th>\n",
              "      <td>1439.000000</td>\n",
              "      <td>6777.000000</td>\n",
              "      <td>153.000000</td>\n",
              "      <td>1528.000000</td>\n",
              "      <td>5249.000000</td>\n",
              "      <td>37.000000</td>\n",
              "      <td>1311.000000</td>\n",
              "    </tr>\n",
              "  </tbody>\n",
              "</table>\n",
              "</div>"
            ],
            "text/plain": [
              "        new_tested   acc_tested  ...  being_checked     isolated\n",
              "count    30.000000    30.000000  ...      30.000000    30.000000\n",
              "mean    229.233333  2275.300000  ...      13.000000   346.266667\n",
              "std     281.828229  2153.042645  ...      11.110728   414.461673\n",
              "min       2.000000   339.000000  ...       0.000000     2.000000\n",
              "25%      63.750000   580.750000  ...       0.000000    21.000000\n",
              "50%     136.000000  1351.000000  ...      15.000000   138.500000\n",
              "75%     315.000000  3188.000000  ...      20.000000   575.000000\n",
              "max    1439.000000  6777.000000  ...      37.000000  1311.000000\n",
              "\n",
              "[8 rows x 7 columns]"
            ]
          },
          "metadata": {},
          "execution_count": 6
        }
      ]
    },
    {
      "cell_type": "markdown",
      "metadata": {
        "id": "KvYwEFGOlSfo"
      },
      "source": [
        "### Province"
      ]
    },
    {
      "cell_type": "markdown",
      "metadata": {
        "id": "9raORKzglnQO"
      },
      "source": [
        "Isi DF Province"
      ]
    },
    {
      "cell_type": "code",
      "metadata": {
        "colab": {
          "base_uri": "https://localhost:8080/",
          "height": 221
        },
        "id": "45eSqrvrlnQP",
        "outputId": "a96ef13d-6e04-46d3-bce0-1e15a8462283"
      },
      "source": [
        "df_province.head()"
      ],
      "execution_count": null,
      "outputs": [
        {
          "output_type": "execute_result",
          "data": {
            "text/html": [
              "<div>\n",
              "<style scoped>\n",
              "    .dataframe tbody tr th:only-of-type {\n",
              "        vertical-align: middle;\n",
              "    }\n",
              "\n",
              "    .dataframe tbody tr th {\n",
              "        vertical-align: top;\n",
              "    }\n",
              "\n",
              "    .dataframe thead th {\n",
              "        text-align: right;\n",
              "    }\n",
              "</style>\n",
              "<table border=\"1\" class=\"dataframe\">\n",
              "  <thead>\n",
              "    <tr style=\"text-align: right;\">\n",
              "      <th></th>\n",
              "      <th>province_id</th>\n",
              "      <th>province_name</th>\n",
              "      <th>island</th>\n",
              "      <th>iso_code</th>\n",
              "      <th>capital_city</th>\n",
              "      <th>population</th>\n",
              "      <th>population_kmsquare</th>\n",
              "      <th>confirmed</th>\n",
              "      <th>deceased</th>\n",
              "      <th>released</th>\n",
              "      <th>longitude</th>\n",
              "      <th>latitude</th>\n",
              "    </tr>\n",
              "  </thead>\n",
              "  <tbody>\n",
              "    <tr>\n",
              "      <th>0</th>\n",
              "      <td>1</td>\n",
              "      <td>Aceh</td>\n",
              "      <td>Sumatra</td>\n",
              "      <td>AC</td>\n",
              "      <td>Banda Aceh</td>\n",
              "      <td>4906835</td>\n",
              "      <td>86</td>\n",
              "      <td>4</td>\n",
              "      <td>0</td>\n",
              "      <td>0</td>\n",
              "      <td>9.672.895</td>\n",
              "      <td>3.869.994</td>\n",
              "    </tr>\n",
              "    <tr>\n",
              "      <th>1</th>\n",
              "      <td>2</td>\n",
              "      <td>Bali</td>\n",
              "      <td>Kepulauan Nusa Tenggara</td>\n",
              "      <td>BA</td>\n",
              "      <td>Denpasar</td>\n",
              "      <td>4104900</td>\n",
              "      <td>738</td>\n",
              "      <td>9</td>\n",
              "      <td>2</td>\n",
              "      <td>0</td>\n",
              "      <td>11.512.255</td>\n",
              "      <td>-825.731</td>\n",
              "    </tr>\n",
              "    <tr>\n",
              "      <th>2</th>\n",
              "      <td>3</td>\n",
              "      <td>Banten</td>\n",
              "      <td>Jawa</td>\n",
              "      <td>BT</td>\n",
              "      <td>Serang</td>\n",
              "      <td>11704877</td>\n",
              "      <td>1298</td>\n",
              "      <td>84</td>\n",
              "      <td>4</td>\n",
              "      <td>1</td>\n",
              "      <td>106.160.889</td>\n",
              "      <td>-6.315.299</td>\n",
              "    </tr>\n",
              "    <tr>\n",
              "      <th>3</th>\n",
              "      <td>4</td>\n",
              "      <td>Bengkulu</td>\n",
              "      <td>Sumatra</td>\n",
              "      <td>BE</td>\n",
              "      <td>Bengkulu</td>\n",
              "      <td>1844800</td>\n",
              "      <td>93</td>\n",
              "      <td>0</td>\n",
              "      <td>0</td>\n",
              "      <td>0</td>\n",
              "      <td>102.315.674</td>\n",
              "      <td>-3.414.725</td>\n",
              "    </tr>\n",
              "    <tr>\n",
              "      <th>4</th>\n",
              "      <td>5</td>\n",
              "      <td>DI Yogyakarta</td>\n",
              "      <td>Jawa</td>\n",
              "      <td>YO</td>\n",
              "      <td>Yogyakarta</td>\n",
              "      <td>3553100</td>\n",
              "      <td>1134</td>\n",
              "      <td>22</td>\n",
              "      <td>2</td>\n",
              "      <td>1</td>\n",
              "      <td>110.390.625</td>\n",
              "      <td>-7.863.382</td>\n",
              "    </tr>\n",
              "  </tbody>\n",
              "</table>\n",
              "</div>"
            ],
            "text/plain": [
              "   province_id  province_name  ...    longitude    latitude\n",
              "0            1           Aceh  ...    9.672.895   3.869.994\n",
              "1            2           Bali  ...   11.512.255    -825.731\n",
              "2            3         Banten  ...  106.160.889  -6.315.299\n",
              "3            4       Bengkulu  ...  102.315.674  -3.414.725\n",
              "4            5  DI Yogyakarta  ...  110.390.625  -7.863.382\n",
              "\n",
              "[5 rows x 12 columns]"
            ]
          },
          "metadata": {},
          "execution_count": 7
        }
      ]
    },
    {
      "cell_type": "markdown",
      "metadata": {
        "id": "zfEmDTPolnQQ"
      },
      "source": [
        "Ukuran Dataframe"
      ]
    },
    {
      "cell_type": "code",
      "metadata": {
        "colab": {
          "base_uri": "https://localhost:8080/"
        },
        "id": "XOxuSwEAlnQQ",
        "outputId": "c113e383-686f-4e70-9733-c42be3b2b543"
      },
      "source": [
        "df_province.shape"
      ],
      "execution_count": null,
      "outputs": [
        {
          "output_type": "execute_result",
          "data": {
            "text/plain": [
              "(34, 12)"
            ]
          },
          "metadata": {},
          "execution_count": 8
        }
      ]
    },
    {
      "cell_type": "markdown",
      "metadata": {
        "id": "iMTac54VlnQQ"
      },
      "source": [
        "Info tipe data Dataframe"
      ]
    },
    {
      "cell_type": "code",
      "metadata": {
        "colab": {
          "base_uri": "https://localhost:8080/"
        },
        "id": "GlQpBDUclnQR",
        "outputId": "1d4ea9d1-975d-4dcd-94b5-94d57f445579"
      },
      "source": [
        "df_province.info()"
      ],
      "execution_count": null,
      "outputs": [
        {
          "output_type": "stream",
          "name": "stdout",
          "text": [
            "<class 'pandas.core.frame.DataFrame'>\n",
            "RangeIndex: 34 entries, 0 to 33\n",
            "Data columns (total 12 columns):\n",
            " #   Column               Non-Null Count  Dtype \n",
            "---  ------               --------------  ----- \n",
            " 0   province_id          34 non-null     int64 \n",
            " 1   province_name        34 non-null     object\n",
            " 2   island               34 non-null     object\n",
            " 3   iso_code             34 non-null     object\n",
            " 4   capital_city         34 non-null     object\n",
            " 5   population           34 non-null     int64 \n",
            " 6   population_kmsquare  34 non-null     int64 \n",
            " 7   confirmed            34 non-null     int64 \n",
            " 8   deceased             34 non-null     int64 \n",
            " 9   released             34 non-null     int64 \n",
            " 10  longitude            34 non-null     object\n",
            " 11  latitude             34 non-null     object\n",
            "dtypes: int64(6), object(6)\n",
            "memory usage: 3.3+ KB\n"
          ]
        }
      ]
    },
    {
      "cell_type": "markdown",
      "metadata": {
        "id": "L6Lhlz2qlnQR"
      },
      "source": [
        "Statistik Dataframe"
      ]
    },
    {
      "cell_type": "code",
      "metadata": {
        "colab": {
          "base_uri": "https://localhost:8080/",
          "height": 297
        },
        "id": "pPTCSrL_lnQR",
        "outputId": "3fc3e6cd-82d0-4257-f4d7-5c73cf769a71"
      },
      "source": [
        "df_province.describe()"
      ],
      "execution_count": null,
      "outputs": [
        {
          "output_type": "execute_result",
          "data": {
            "text/html": [
              "<div>\n",
              "<style scoped>\n",
              "    .dataframe tbody tr th:only-of-type {\n",
              "        vertical-align: middle;\n",
              "    }\n",
              "\n",
              "    .dataframe tbody tr th {\n",
              "        vertical-align: top;\n",
              "    }\n",
              "\n",
              "    .dataframe thead th {\n",
              "        text-align: right;\n",
              "    }\n",
              "</style>\n",
              "<table border=\"1\" class=\"dataframe\">\n",
              "  <thead>\n",
              "    <tr style=\"text-align: right;\">\n",
              "      <th></th>\n",
              "      <th>province_id</th>\n",
              "      <th>population</th>\n",
              "      <th>population_kmsquare</th>\n",
              "      <th>confirmed</th>\n",
              "      <th>deceased</th>\n",
              "      <th>released</th>\n",
              "    </tr>\n",
              "  </thead>\n",
              "  <tbody>\n",
              "    <tr>\n",
              "      <th>count</th>\n",
              "      <td>34.000000</td>\n",
              "      <td>3.400000e+01</td>\n",
              "      <td>34.000000</td>\n",
              "      <td>34.000000</td>\n",
              "      <td>34.000000</td>\n",
              "      <td>34.000000</td>\n",
              "    </tr>\n",
              "    <tr>\n",
              "      <th>mean</th>\n",
              "      <td>17.500000</td>\n",
              "      <td>7.412293e+06</td>\n",
              "      <td>297.558824</td>\n",
              "      <td>29.911765</td>\n",
              "      <td>2.529412</td>\n",
              "      <td>1.352941</td>\n",
              "    </tr>\n",
              "    <tr>\n",
              "      <th>std</th>\n",
              "      <td>9.958246</td>\n",
              "      <td>1.068707e+07</td>\n",
              "      <td>427.403733</td>\n",
              "      <td>103.257069</td>\n",
              "      <td>8.975506</td>\n",
              "      <td>5.476575</td>\n",
              "    </tr>\n",
              "    <tr>\n",
              "      <th>min</th>\n",
              "      <td>1.000000</td>\n",
              "      <td>6.183840e+05</td>\n",
              "      <td>2.000000</td>\n",
              "      <td>0.000000</td>\n",
              "      <td>0.000000</td>\n",
              "      <td>0.000000</td>\n",
              "    </tr>\n",
              "    <tr>\n",
              "      <th>25%</th>\n",
              "      <td>9.250000</td>\n",
              "      <td>2.034712e+06</td>\n",
              "      <td>47.250000</td>\n",
              "      <td>1.000000</td>\n",
              "      <td>0.000000</td>\n",
              "      <td>0.000000</td>\n",
              "    </tr>\n",
              "    <tr>\n",
              "      <th>50%</th>\n",
              "      <td>17.500000</td>\n",
              "      <td>3.737945e+06</td>\n",
              "      <td>93.000000</td>\n",
              "      <td>3.500000</td>\n",
              "      <td>0.000000</td>\n",
              "      <td>0.000000</td>\n",
              "    </tr>\n",
              "    <tr>\n",
              "      <th>75%</th>\n",
              "      <td>25.750000</td>\n",
              "      <td>7.503236e+06</td>\n",
              "      <td>234.500000</td>\n",
              "      <td>8.750000</td>\n",
              "      <td>1.000000</td>\n",
              "      <td>0.000000</td>\n",
              "    </tr>\n",
              "    <tr>\n",
              "      <th>max</th>\n",
              "      <td>34.000000</td>\n",
              "      <td>4.602967e+07</td>\n",
              "      <td>1353.000000</td>\n",
              "      <td>598.000000</td>\n",
              "      <td>51.000000</td>\n",
              "      <td>31.000000</td>\n",
              "    </tr>\n",
              "  </tbody>\n",
              "</table>\n",
              "</div>"
            ],
            "text/plain": [
              "       province_id    population  ...   deceased   released\n",
              "count    34.000000  3.400000e+01  ...  34.000000  34.000000\n",
              "mean     17.500000  7.412293e+06  ...   2.529412   1.352941\n",
              "std       9.958246  1.068707e+07  ...   8.975506   5.476575\n",
              "min       1.000000  6.183840e+05  ...   0.000000   0.000000\n",
              "25%       9.250000  2.034712e+06  ...   0.000000   0.000000\n",
              "50%      17.500000  3.737945e+06  ...   0.000000   0.000000\n",
              "75%      25.750000  7.503236e+06  ...   1.000000   0.000000\n",
              "max      34.000000  4.602967e+07  ...  51.000000  31.000000\n",
              "\n",
              "[8 rows x 6 columns]"
            ]
          },
          "metadata": {},
          "execution_count": 10
        }
      ]
    },
    {
      "cell_type": "markdown",
      "metadata": {
        "id": "E_jyW_aHl2s_"
      },
      "source": [
        "## Data Preprocessing"
      ]
    },
    {
      "cell_type": "markdown",
      "metadata": {
        "id": "jL4bs5gPmKJC"
      },
      "source": [
        "Mengubah tipe data kolom date dari object menjadi datetime"
      ]
    },
    {
      "cell_type": "code",
      "metadata": {
        "colab": {
          "base_uri": "https://localhost:8080/"
        },
        "id": "cUE-DHEempbZ",
        "outputId": "c5e02939-cfc3-4137-d67b-2803ae878f8b"
      },
      "source": [
        "df_covid['date'] = pd.to_datetime(df_covid['date'])\n",
        "df_covid.info()"
      ],
      "execution_count": null,
      "outputs": [
        {
          "output_type": "stream",
          "name": "stdout",
          "text": [
            "<class 'pandas.core.frame.DataFrame'>\n",
            "RangeIndex: 30 entries, 0 to 29\n",
            "Data columns (total 8 columns):\n",
            " #   Column         Non-Null Count  Dtype         \n",
            "---  ------         --------------  -----         \n",
            " 0   date           30 non-null     datetime64[ns]\n",
            " 1   new_tested     30 non-null     int64         \n",
            " 2   acc_tested     30 non-null     int64         \n",
            " 3   new_confirmed  30 non-null     int64         \n",
            " 4   acc_confirmed  30 non-null     int64         \n",
            " 5   acc_negative   30 non-null     int64         \n",
            " 6   being_checked  30 non-null     int64         \n",
            " 7   isolated       30 non-null     int64         \n",
            "dtypes: datetime64[ns](1), int64(7)\n",
            "memory usage: 2.0 KB\n"
          ]
        }
      ]
    },
    {
      "cell_type": "markdown",
      "metadata": {
        "id": "f3k0qm77pmtH"
      },
      "source": [
        "DF Covid tes apakah tested sama dengan positive + negative + lagi dicek"
      ]
    },
    {
      "cell_type": "code",
      "metadata": {
        "colab": {
          "base_uri": "https://localhost:8080/"
        },
        "id": "PGxyjuc1psI3",
        "outputId": "02de055e-95fe-4cda-8681-a652514f1c35"
      },
      "source": [
        "df_covid['acc_tested'] == df_covid['acc_confirmed'] + df_covid['acc_negative'] + df_covid['being_checked']"
      ],
      "execution_count": null,
      "outputs": [
        {
          "output_type": "execute_result",
          "data": {
            "text/plain": [
              "0      True\n",
              "1      True\n",
              "2      True\n",
              "3      True\n",
              "4      True\n",
              "5      True\n",
              "6      True\n",
              "7      True\n",
              "8      True\n",
              "9      True\n",
              "10     True\n",
              "11     True\n",
              "12     True\n",
              "13     True\n",
              "14     True\n",
              "15    False\n",
              "16     True\n",
              "17    False\n",
              "18    False\n",
              "19     True\n",
              "20     True\n",
              "21     True\n",
              "22     True\n",
              "23     True\n",
              "24     True\n",
              "25     True\n",
              "26     True\n",
              "27     True\n",
              "28     True\n",
              "29     True\n",
              "dtype: bool"
            ]
          },
          "metadata": {},
          "execution_count": 12
        }
      ]
    },
    {
      "cell_type": "markdown",
      "metadata": {
        "id": "agu_yEpdm_Ry"
      },
      "source": [
        "## Soal 1"
      ]
    },
    {
      "cell_type": "markdown",
      "metadata": {
        "id": "RyQBtc3nnh2M"
      },
      "source": [
        "Ambil kolom date, acc_tested, acc_confirmed, acc_negative"
      ]
    },
    {
      "cell_type": "code",
      "metadata": {
        "colab": {
          "base_uri": "https://localhost:8080/",
          "height": 204
        },
        "id": "oD1EuPN1olDN",
        "outputId": "f4184334-cb47-41d2-ffa2-3c390e85f841"
      },
      "source": [
        "df_covid_test = df_covid[['date', 'acc_tested', 'acc_confirmed', 'acc_negative']]\n",
        "df_covid_test.rename(columns={'date' : 'Tanggal', 'acc_tested' : 'Jumlah Tes', 'acc_confirmed' : 'Konfirmasi Positif', 'acc_negative' : \"Konfirmasi Negatif\"}, inplace=True)\n",
        "df_covid_test.tail()"
      ],
      "execution_count": null,
      "outputs": [
        {
          "output_type": "execute_result",
          "data": {
            "text/html": [
              "<div>\n",
              "<style scoped>\n",
              "    .dataframe tbody tr th:only-of-type {\n",
              "        vertical-align: middle;\n",
              "    }\n",
              "\n",
              "    .dataframe tbody tr th {\n",
              "        vertical-align: top;\n",
              "    }\n",
              "\n",
              "    .dataframe thead th {\n",
              "        text-align: right;\n",
              "    }\n",
              "</style>\n",
              "<table border=\"1\" class=\"dataframe\">\n",
              "  <thead>\n",
              "    <tr style=\"text-align: right;\">\n",
              "      <th></th>\n",
              "      <th>Tanggal</th>\n",
              "      <th>Jumlah Tes</th>\n",
              "      <th>Konfirmasi Positif</th>\n",
              "      <th>Konfirmasi Negatif</th>\n",
              "    </tr>\n",
              "  </thead>\n",
              "  <tbody>\n",
              "    <tr>\n",
              "      <th>25</th>\n",
              "      <td>2020-03-27</td>\n",
              "      <td>5775</td>\n",
              "      <td>1046</td>\n",
              "      <td>4729</td>\n",
              "    </tr>\n",
              "    <tr>\n",
              "      <th>26</th>\n",
              "      <td>2020-03-28</td>\n",
              "      <td>6266</td>\n",
              "      <td>1155</td>\n",
              "      <td>5111</td>\n",
              "    </tr>\n",
              "    <tr>\n",
              "      <th>27</th>\n",
              "      <td>2020-03-29</td>\n",
              "      <td>6534</td>\n",
              "      <td>1285</td>\n",
              "      <td>5249</td>\n",
              "    </tr>\n",
              "    <tr>\n",
              "      <th>28</th>\n",
              "      <td>2020-03-30</td>\n",
              "      <td>6663</td>\n",
              "      <td>1414</td>\n",
              "      <td>5249</td>\n",
              "    </tr>\n",
              "    <tr>\n",
              "      <th>29</th>\n",
              "      <td>2020-03-31</td>\n",
              "      <td>6777</td>\n",
              "      <td>1528</td>\n",
              "      <td>5249</td>\n",
              "    </tr>\n",
              "  </tbody>\n",
              "</table>\n",
              "</div>"
            ],
            "text/plain": [
              "      Tanggal  Jumlah Tes  Konfirmasi Positif  Konfirmasi Negatif\n",
              "25 2020-03-27        5775                1046                4729\n",
              "26 2020-03-28        6266                1155                5111\n",
              "27 2020-03-29        6534                1285                5249\n",
              "28 2020-03-30        6663                1414                5249\n",
              "29 2020-03-31        6777                1528                5249"
            ]
          },
          "metadata": {},
          "execution_count": 13
        }
      ]
    },
    {
      "cell_type": "markdown",
      "metadata": {
        "id": "Y4lz5TpetOk2"
      },
      "source": [
        "Visualisasi Line Plot\n"
      ]
    },
    {
      "cell_type": "code",
      "metadata": {
        "colab": {
          "base_uri": "https://localhost:8080/",
          "height": 552
        },
        "id": "k3Q3761ltQvZ",
        "outputId": "c429361b-b19c-4453-ea8b-aa130960c635"
      },
      "source": [
        "df_covid_test.plot(x='Tanggal',\n",
        "                   figsize = (15,8))\n",
        "plt.title('Jumlah Kasus Covid-19', color='black')\n",
        "plt.ylabel('Banyak kasus')\n",
        "\n",
        "l = plt.legend()\n",
        "for text in l.get_texts():\n",
        "    text.set_color(\"black\")\n",
        "\n",
        "plt.show()"
      ],
      "execution_count": null,
      "outputs": [
        {
          "output_type": "display_data",
          "data": {
            "image/png": "[encoded data removed]",
            "text/plain": [
              "<Figure size 1080x576 with 1 Axes>"
            ]
          },
          "metadata": {
            "needs_background": "light"
          }
        }
      ]
    },
    {
      "cell_type": "markdown",
      "metadata": {
        "id": "OnS6vBlU2O-s"
      },
      "source": [
        "## Soal 2"
      ]
    },
    {
      "cell_type": "markdown",
      "metadata": {
        "id": "xv_N7bEi2Srl"
      },
      "source": [
        "### 2.1. Positive Rate dan Negative Rate"
      ]
    },
    {
      "cell_type": "markdown",
      "metadata": {
        "id": "Yjgf85UQ2rBL"
      },
      "source": [
        "Menghitung Positive Rate"
      ]
    },
    {
      "cell_type": "code",
      "metadata": {
        "colab": {
          "base_uri": "https://localhost:8080/"
        },
        "id": "ix9PBvoe2t0n",
        "outputId": "1188260b-a403-4d4f-f233-1f9367a5d141"
      },
      "source": [
        "positive_rate = df_covid['acc_confirmed'] / df_covid['acc_tested'] * 100\n",
        "positive_rate"
      ],
      "execution_count": null,
      "outputs": [
        {
          "output_type": "execute_result",
          "data": {
            "text/plain": [
              "0      0.589971\n",
              "1      0.586510\n",
              "2      0.537634\n",
              "3      0.515464\n",
              "4      0.888889\n",
              "5      0.881057\n",
              "6      1.242236\n",
              "7      3.499079\n",
              "8      3.890490\n",
              "9      4.287516\n",
              "10     3.944316\n",
              "11     6.865672\n",
              "12     7.966805\n",
              "13     9.048724\n",
              "14    10.075188\n",
              "15    12.536443\n",
              "16    14.258794\n",
              "17    18.715930\n",
              "18    18.195266\n",
              "19    19.027484\n",
              "20    21.082855\n",
              "21    21.008708\n",
              "22    20.558223\n",
              "23    20.669806\n",
              "24    20.595018\n",
              "25    18.112554\n",
              "26    18.432812\n",
              "27    19.666361\n",
              "28    21.221672\n",
              "29    22.546850\n",
              "dtype: float64"
            ]
          },
          "metadata": {},
          "execution_count": 15
        }
      ]
    },
    {
      "cell_type": "markdown",
      "metadata": {
        "id": "nZBU3Wlf3EUJ"
      },
      "source": [
        "Menghitung Negative Rate"
      ]
    },
    {
      "cell_type": "code",
      "metadata": {
        "colab": {
          "base_uri": "https://localhost:8080/"
        },
        "id": "oIJmrI8y3GiT",
        "outputId": "f39a1dc0-8116-4248-c820-cb2b8c99f7f2"
      },
      "source": [
        "negative_rate = df_covid['acc_negative'] / df_covid['acc_tested'] * 100\n",
        "negative_rate"
      ],
      "execution_count": null,
      "outputs": [
        {
          "output_type": "execute_result",
          "data": {
            "text/plain": [
              "0     98.820059\n",
              "1     98.826979\n",
              "2     95.698925\n",
              "3     95.618557\n",
              "4     93.777778\n",
              "5     92.951542\n",
              "6     92.132505\n",
              "7     89.686924\n",
              "8     93.371758\n",
              "9     93.820933\n",
              "10    94.083527\n",
              "11    91.243781\n",
              "12    92.033195\n",
              "13    90.255220\n",
              "14    88.947368\n",
              "15    93.148688\n",
              "16    84.296482\n",
              "17    95.093882\n",
              "18    81.015779\n",
              "19    80.126850\n",
              "20    78.096801\n",
              "21    78.991292\n",
              "22    78.781513\n",
              "23    79.330194\n",
              "24    79.404982\n",
              "25    81.887446\n",
              "26    81.567188\n",
              "27    80.333639\n",
              "28    78.778328\n",
              "29    77.453150\n",
              "dtype: float64"
            ]
          },
          "metadata": {},
          "execution_count": 16
        }
      ]
    },
    {
      "cell_type": "markdown",
      "metadata": {
        "id": "ekFaVBSt3dxj"
      },
      "source": [
        "Memasukkan ke tabel"
      ]
    },
    {
      "cell_type": "code",
      "metadata": {
        "colab": {
          "base_uri": "https://localhost:8080/",
          "height": 204
        },
        "id": "DghDK6lr3dZ3",
        "outputId": "1ba98c06-3325-4ebd-e4dd-6e0138215ff2"
      },
      "source": [
        "df_covid['Positive Rate'] = positive_rate\n",
        "df_covid['Negative Rate'] = negative_rate\n",
        "df_covid.head()"
      ],
      "execution_count": null,
      "outputs": [
        {
          "output_type": "execute_result",
          "data": {
            "text/html": [
              "<div>\n",
              "<style scoped>\n",
              "    .dataframe tbody tr th:only-of-type {\n",
              "        vertical-align: middle;\n",
              "    }\n",
              "\n",
              "    .dataframe tbody tr th {\n",
              "        vertical-align: top;\n",
              "    }\n",
              "\n",
              "    .dataframe thead th {\n",
              "        text-align: right;\n",
              "    }\n",
              "</style>\n",
              "<table border=\"1\" class=\"dataframe\">\n",
              "  <thead>\n",
              "    <tr style=\"text-align: right;\">\n",
              "      <th></th>\n",
              "      <th>date</th>\n",
              "      <th>new_tested</th>\n",
              "      <th>acc_tested</th>\n",
              "      <th>new_confirmed</th>\n",
              "      <th>acc_confirmed</th>\n",
              "      <th>acc_negative</th>\n",
              "      <th>being_checked</th>\n",
              "      <th>isolated</th>\n",
              "      <th>Positive Rate</th>\n",
              "      <th>Negative Rate</th>\n",
              "    </tr>\n",
              "  </thead>\n",
              "  <tbody>\n",
              "    <tr>\n",
              "      <th>0</th>\n",
              "      <td>2020-03-02</td>\n",
              "      <td>339</td>\n",
              "      <td>339</td>\n",
              "      <td>2</td>\n",
              "      <td>2</td>\n",
              "      <td>335</td>\n",
              "      <td>2</td>\n",
              "      <td>2</td>\n",
              "      <td>0.589971</td>\n",
              "      <td>98.820059</td>\n",
              "    </tr>\n",
              "    <tr>\n",
              "      <th>1</th>\n",
              "      <td>2020-03-03</td>\n",
              "      <td>2</td>\n",
              "      <td>341</td>\n",
              "      <td>0</td>\n",
              "      <td>2</td>\n",
              "      <td>337</td>\n",
              "      <td>2</td>\n",
              "      <td>2</td>\n",
              "      <td>0.586510</td>\n",
              "      <td>98.826979</td>\n",
              "    </tr>\n",
              "    <tr>\n",
              "      <th>2</th>\n",
              "      <td>2020-03-04</td>\n",
              "      <td>31</td>\n",
              "      <td>372</td>\n",
              "      <td>0</td>\n",
              "      <td>2</td>\n",
              "      <td>356</td>\n",
              "      <td>14</td>\n",
              "      <td>2</td>\n",
              "      <td>0.537634</td>\n",
              "      <td>95.698925</td>\n",
              "    </tr>\n",
              "    <tr>\n",
              "      <th>3</th>\n",
              "      <td>2020-03-05</td>\n",
              "      <td>16</td>\n",
              "      <td>388</td>\n",
              "      <td>0</td>\n",
              "      <td>2</td>\n",
              "      <td>371</td>\n",
              "      <td>15</td>\n",
              "      <td>2</td>\n",
              "      <td>0.515464</td>\n",
              "      <td>95.618557</td>\n",
              "    </tr>\n",
              "    <tr>\n",
              "      <th>4</th>\n",
              "      <td>2020-03-06</td>\n",
              "      <td>62</td>\n",
              "      <td>450</td>\n",
              "      <td>2</td>\n",
              "      <td>4</td>\n",
              "      <td>422</td>\n",
              "      <td>24</td>\n",
              "      <td>4</td>\n",
              "      <td>0.888889</td>\n",
              "      <td>93.777778</td>\n",
              "    </tr>\n",
              "  </tbody>\n",
              "</table>\n",
              "</div>"
            ],
            "text/plain": [
              "        date  new_tested  acc_tested  ...  isolated  Positive Rate  Negative Rate\n",
              "0 2020-03-02         339         339  ...         2       0.589971      98.820059\n",
              "1 2020-03-03           2         341  ...         2       0.586510      98.826979\n",
              "2 2020-03-04          31         372  ...         2       0.537634      95.698925\n",
              "3 2020-03-05          16         388  ...         2       0.515464      95.618557\n",
              "4 2020-03-06          62         450  ...         4       0.888889      93.777778\n",
              "\n",
              "[5 rows x 10 columns]"
            ]
          },
          "metadata": {},
          "execution_count": 17
        }
      ]
    },
    {
      "cell_type": "markdown",
      "metadata": {
        "id": "jN7tAiNS3-pg"
      },
      "source": [
        "### 2.2. Visualisasi Bar Plot"
      ]
    },
    {
      "cell_type": "code",
      "metadata": {
        "colab": {
          "base_uri": "https://localhost:8080/",
          "height": 235
        },
        "id": "_qUCJu3j4DZw",
        "outputId": "320ed1c5-940c-493f-b2fa-aa6d817ac7bc"
      },
      "source": [
        "positive_negative = df_covid[['date', 'Positive Rate', 'Negative Rate']]\n",
        "positive_negative.set_index('date',inplace=True)\n",
        "positive_negative.head()"
      ],
      "execution_count": null,
      "outputs": [
        {
          "output_type": "execute_result",
          "data": {
            "text/html": [
              "<div>\n",
              "<style scoped>\n",
              "    .dataframe tbody tr th:only-of-type {\n",
              "        vertical-align: middle;\n",
              "    }\n",
              "\n",
              "    .dataframe tbody tr th {\n",
              "        vertical-align: top;\n",
              "    }\n",
              "\n",
              "    .dataframe thead th {\n",
              "        text-align: right;\n",
              "    }\n",
              "</style>\n",
              "<table border=\"1\" class=\"dataframe\">\n",
              "  <thead>\n",
              "    <tr style=\"text-align: right;\">\n",
              "      <th></th>\n",
              "      <th>Positive Rate</th>\n",
              "      <th>Negative Rate</th>\n",
              "    </tr>\n",
              "    <tr>\n",
              "      <th>date</th>\n",
              "      <th></th>\n",
              "      <th></th>\n",
              "    </tr>\n",
              "  </thead>\n",
              "  <tbody>\n",
              "    <tr>\n",
              "      <th>2020-03-02</th>\n",
              "      <td>0.589971</td>\n",
              "      <td>98.820059</td>\n",
              "    </tr>\n",
              "    <tr>\n",
              "      <th>2020-03-03</th>\n",
              "      <td>0.586510</td>\n",
              "      <td>98.826979</td>\n",
              "    </tr>\n",
              "    <tr>\n",
              "      <th>2020-03-04</th>\n",
              "      <td>0.537634</td>\n",
              "      <td>95.698925</td>\n",
              "    </tr>\n",
              "    <tr>\n",
              "      <th>2020-03-05</th>\n",
              "      <td>0.515464</td>\n",
              "      <td>95.618557</td>\n",
              "    </tr>\n",
              "    <tr>\n",
              "      <th>2020-03-06</th>\n",
              "      <td>0.888889</td>\n",
              "      <td>93.777778</td>\n",
              "    </tr>\n",
              "  </tbody>\n",
              "</table>\n",
              "</div>"
            ],
            "text/plain": [
              "            Positive Rate  Negative Rate\n",
              "date                                    \n",
              "2020-03-02       0.589971      98.820059\n",
              "2020-03-03       0.586510      98.826979\n",
              "2020-03-04       0.537634      95.698925\n",
              "2020-03-05       0.515464      95.618557\n",
              "2020-03-06       0.888889      93.777778"
            ]
          },
          "metadata": {},
          "execution_count": 18
        }
      ]
    },
    {
      "cell_type": "code",
      "metadata": {
        "colab": {
          "base_uri": "https://localhost:8080/",
          "height": 565
        },
        "id": "-96Yor5v4Xl9",
        "outputId": "027a0579-3a39-4e9d-f67a-1e88852cb872"
      },
      "source": [
        "ax = positive_negative.plot(kind='bar', \n",
        "                       figsize=(15,8),\n",
        "                       stacked=True)\n",
        "\n",
        "ax.set_xticklabels(positive_negative.index.format())\n",
        "plt.title(\"Positive Rate vs Negative Rate\", color='black')\n",
        "plt.xlabel('Tanggal')\n",
        "plt.ylabel('Persentasi')\n",
        "\n",
        "l = plt.legend()\n",
        "for text in l.get_texts():\n",
        "    text.set_color(\"black\")\n",
        "\n",
        "plt.show()"
      ],
      "execution_count": null,
      "outputs": [
        {
          "output_type": "display_data",
          "data": {
            "image/png": "[encoded data removed]",
            "text/plain": [
              "<Figure size 1080x576 with 1 Axes>"
            ]
          },
          "metadata": {
            "needs_background": "light"
          }
        }
      ]
    },
    {
      "cell_type": "markdown",
      "metadata": {
        "id": "sPozPDEZCQL4"
      },
      "source": [
        "### 2.3. Positive Rate Tertinggi"
      ]
    },
    {
      "cell_type": "code",
      "metadata": {
        "colab": {
          "base_uri": "https://localhost:8080/"
        },
        "id": "aVj-wlsyCS11",
        "outputId": "215f7216-0571-4143-9d77-61a1ae1c3153"
      },
      "source": [
        "positive_negative[positive_negative['Positive Rate'] == positive_negative['Positive Rate'].max()]"
      ],
      "execution_count": null,
      "outputs": [
        {
          "output_type": "execute_result",
          "data": {
            "text/html": [
              "<div>\n",
              "<style scoped>\n",
              "    .dataframe tbody tr th:only-of-type {\n",
              "        vertical-align: middle;\n",
              "    }\n",
              "\n",
              "    .dataframe tbody tr th {\n",
              "        vertical-align: top;\n",
              "    }\n",
              "\n",
              "    .dataframe thead th {\n",
              "        text-align: right;\n",
              "    }\n",
              "</style>\n",
              "<table border=\"1\" class=\"dataframe\">\n",
              "  <thead>\n",
              "    <tr style=\"text-align: right;\">\n",
              "      <th></th>\n",
              "      <th>Positive Rate</th>\n",
              "      <th>Negative Rate</th>\n",
              "    </tr>\n",
              "    <tr>\n",
              "      <th>date</th>\n",
              "      <th></th>\n",
              "      <th></th>\n",
              "    </tr>\n",
              "  </thead>\n",
              "  <tbody>\n",
              "    <tr>\n",
              "      <th>2020-03-31</th>\n",
              "      <td>22.54685</td>\n",
              "      <td>77.45315</td>\n",
              "    </tr>\n",
              "  </tbody>\n",
              "</table>\n",
              "</div>"
            ],
            "text/plain": [
              "            Positive Rate  Negative Rate\n",
              "date                                    \n",
              "2020-03-31       22.54685       77.45315"
            ]
          },
          "metadata": {},
          "execution_count": 20
        }
      ]
    },
    {
      "cell_type": "markdown",
      "metadata": {
        "id": "8M5vRxPdDKCy"
      },
      "source": [
        "Positive Rate tertinggi pada tanggal 31 Maret 2020"
      ]
    },
    {
      "cell_type": "markdown",
      "metadata": {
        "id": "nZKWJ3IuDUoy"
      },
      "source": [
        "### 2.4. Negative Rate Tertinggi"
      ]
    },
    {
      "cell_type": "code",
      "metadata": {
        "colab": {
          "base_uri": "https://localhost:8080/",
          "height": 111
        },
        "id": "rb3gnythDZ8B",
        "outputId": "c623e263-61dc-4020-9c13-99501e7de4d0"
      },
      "source": [
        "positive_negative[positive_negative['Negative Rate'] == positive_negative['Negative Rate'].max()]"
      ],
      "execution_count": null,
      "outputs": [
        {
          "output_type": "execute_result",
          "data": {
            "text/html": [
              "<div>\n",
              "<style scoped>\n",
              "    .dataframe tbody tr th:only-of-type {\n",
              "        vertical-align: middle;\n",
              "    }\n",
              "\n",
              "    .dataframe tbody tr th {\n",
              "        vertical-align: top;\n",
              "    }\n",
              "\n",
              "    .dataframe thead th {\n",
              "        text-align: right;\n",
              "    }\n",
              "</style>\n",
              "<table border=\"1\" class=\"dataframe\">\n",
              "  <thead>\n",
              "    <tr style=\"text-align: right;\">\n",
              "      <th></th>\n",
              "      <th>Positive Rate</th>\n",
              "      <th>Negative Rate</th>\n",
              "    </tr>\n",
              "    <tr>\n",
              "      <th>date</th>\n",
              "      <th></th>\n",
              "      <th></th>\n",
              "    </tr>\n",
              "  </thead>\n",
              "  <tbody>\n",
              "    <tr>\n",
              "      <th>2020-03-03</th>\n",
              "      <td>0.58651</td>\n",
              "      <td>98.826979</td>\n",
              "    </tr>\n",
              "  </tbody>\n",
              "</table>\n",
              "</div>"
            ],
            "text/plain": [
              "            Positive Rate  Negative Rate\n",
              "date                                    \n",
              "2020-03-03        0.58651      98.826979"
            ]
          },
          "metadata": {},
          "execution_count": 21
        }
      ]
    },
    {
      "cell_type": "markdown",
      "metadata": {
        "id": "VYg4W-MHDgtP"
      },
      "source": [
        "Negative Rate Tertinggi pada tanggal 3 Maret 2020"
      ]
    },
    {
      "cell_type": "markdown",
      "metadata": {
        "id": "9cQKB5FD4Vpo"
      },
      "source": [
        "## Soal 3"
      ]
    },
    {
      "cell_type": "markdown",
      "metadata": {
        "id": "ucNWv2jI8IlZ"
      },
      "source": [
        "### 3.1. Menunjukan Korelasi"
      ]
    },
    {
      "cell_type": "markdown",
      "metadata": {
        "id": "SwIUUepD5dpz"
      },
      "source": [
        "Mencari korelasi"
      ]
    },
    {
      "cell_type": "code",
      "metadata": {
        "colab": {
          "base_uri": "https://localhost:8080/",
          "height": 328
        },
        "id": "fOSDu91y5bFa",
        "outputId": "f20b25b8-1d4c-46f6-e02b-da9a00199b52"
      },
      "source": [
        "df_covid.corr()"
      ],
      "execution_count": null,
      "outputs": [
        {
          "output_type": "execute_result",
          "data": {
            "text/html": [
              "<div>\n",
              "<style scoped>\n",
              "    .dataframe tbody tr th:only-of-type {\n",
              "        vertical-align: middle;\n",
              "    }\n",
              "\n",
              "    .dataframe tbody tr th {\n",
              "        vertical-align: top;\n",
              "    }\n",
              "\n",
              "    .dataframe thead th {\n",
              "        text-align: right;\n",
              "    }\n",
              "</style>\n",
              "<table border=\"1\" class=\"dataframe\">\n",
              "  <thead>\n",
              "    <tr style=\"text-align: right;\">\n",
              "      <th></th>\n",
              "      <th>new_tested</th>\n",
              "      <th>acc_tested</th>\n",
              "      <th>new_confirmed</th>\n",
              "      <th>acc_confirmed</th>\n",
              "      <th>acc_negative</th>\n",
              "      <th>being_checked</th>\n",
              "      <th>isolated</th>\n",
              "      <th>Positive Rate</th>\n",
              "      <th>Negative Rate</th>\n",
              "    </tr>\n",
              "  </thead>\n",
              "  <tbody>\n",
              "    <tr>\n",
              "      <th>new_tested</th>\n",
              "      <td>1.000000</td>\n",
              "      <td>0.529012</td>\n",
              "      <td>0.681682</td>\n",
              "      <td>0.488240</td>\n",
              "      <td>0.541540</td>\n",
              "      <td>-0.402717</td>\n",
              "      <td>0.494872</td>\n",
              "      <td>0.482762</td>\n",
              "      <td>-0.425873</td>\n",
              "    </tr>\n",
              "    <tr>\n",
              "      <th>acc_tested</th>\n",
              "      <td>0.529012</td>\n",
              "      <td>1.000000</td>\n",
              "      <td>0.927075</td>\n",
              "      <td>0.992487</td>\n",
              "      <td>0.999088</td>\n",
              "      <td>-0.611367</td>\n",
              "      <td>0.992602</td>\n",
              "      <td>0.799769</td>\n",
              "      <td>-0.795623</td>\n",
              "    </tr>\n",
              "    <tr>\n",
              "      <th>new_confirmed</th>\n",
              "      <td>0.681682</td>\n",
              "      <td>0.927075</td>\n",
              "      <td>1.000000</td>\n",
              "      <td>0.925703</td>\n",
              "      <td>0.929067</td>\n",
              "      <td>-0.504804</td>\n",
              "      <td>0.928491</td>\n",
              "      <td>0.904245</td>\n",
              "      <td>-0.834043</td>\n",
              "    </tr>\n",
              "    <tr>\n",
              "      <th>acc_confirmed</th>\n",
              "      <td>0.488240</td>\n",
              "      <td>0.992487</td>\n",
              "      <td>0.925703</td>\n",
              "      <td>1.000000</td>\n",
              "      <td>0.987653</td>\n",
              "      <td>-0.599737</td>\n",
              "      <td>0.999920</td>\n",
              "      <td>0.820484</td>\n",
              "      <td>-0.816270</td>\n",
              "    </tr>\n",
              "    <tr>\n",
              "      <th>acc_negative</th>\n",
              "      <td>0.541540</td>\n",
              "      <td>0.999088</td>\n",
              "      <td>0.929067</td>\n",
              "      <td>0.987653</td>\n",
              "      <td>1.000000</td>\n",
              "      <td>-0.613971</td>\n",
              "      <td>0.987858</td>\n",
              "      <td>0.797495</td>\n",
              "      <td>-0.781272</td>\n",
              "    </tr>\n",
              "    <tr>\n",
              "      <th>being_checked</th>\n",
              "      <td>-0.402717</td>\n",
              "      <td>-0.611367</td>\n",
              "      <td>-0.504804</td>\n",
              "      <td>-0.599737</td>\n",
              "      <td>-0.613971</td>\n",
              "      <td>1.000000</td>\n",
              "      <td>-0.600341</td>\n",
              "      <td>-0.412079</td>\n",
              "      <td>0.318069</td>\n",
              "    </tr>\n",
              "    <tr>\n",
              "      <th>isolated</th>\n",
              "      <td>0.494872</td>\n",
              "      <td>0.992602</td>\n",
              "      <td>0.928491</td>\n",
              "      <td>0.999920</td>\n",
              "      <td>0.987858</td>\n",
              "      <td>-0.600341</td>\n",
              "      <td>1.000000</td>\n",
              "      <td>0.822680</td>\n",
              "      <td>-0.817870</td>\n",
              "    </tr>\n",
              "    <tr>\n",
              "      <th>Positive Rate</th>\n",
              "      <td>0.482762</td>\n",
              "      <td>0.799769</td>\n",
              "      <td>0.904245</td>\n",
              "      <td>0.820484</td>\n",
              "      <td>0.797495</td>\n",
              "      <td>-0.412079</td>\n",
              "      <td>0.822680</td>\n",
              "      <td>1.000000</td>\n",
              "      <td>-0.896357</td>\n",
              "    </tr>\n",
              "    <tr>\n",
              "      <th>Negative Rate</th>\n",
              "      <td>-0.425873</td>\n",
              "      <td>-0.795623</td>\n",
              "      <td>-0.834043</td>\n",
              "      <td>-0.816270</td>\n",
              "      <td>-0.781272</td>\n",
              "      <td>0.318069</td>\n",
              "      <td>-0.817870</td>\n",
              "      <td>-0.896357</td>\n",
              "      <td>1.000000</td>\n",
              "    </tr>\n",
              "  </tbody>\n",
              "</table>\n",
              "</div>"
            ],
            "text/plain": [
              "               new_tested  acc_tested  ...  Positive Rate  Negative Rate\n",
              "new_tested       1.000000    0.529012  ...       0.482762      -0.425873\n",
              "acc_tested       0.529012    1.000000  ...       0.799769      -0.795623\n",
              "new_confirmed    0.681682    0.927075  ...       0.904245      -0.834043\n",
              "acc_confirmed    0.488240    0.992487  ...       0.820484      -0.816270\n",
              "acc_negative     0.541540    0.999088  ...       0.797495      -0.781272\n",
              "being_checked   -0.402717   -0.611367  ...      -0.412079       0.318069\n",
              "isolated         0.494872    0.992602  ...       0.822680      -0.817870\n",
              "Positive Rate    0.482762    0.799769  ...       1.000000      -0.896357\n",
              "Negative Rate   -0.425873   -0.795623  ...      -0.896357       1.000000\n",
              "\n",
              "[9 rows x 9 columns]"
            ]
          },
          "metadata": {},
          "execution_count": 22
        }
      ]
    },
    {
      "cell_type": "code",
      "metadata": {
        "colab": {
          "base_uri": "https://localhost:8080/",
          "height": 570
        },
        "id": "PVAoZb476Czb",
        "outputId": "ca90df56-7bdb-426f-b8e4-64d1bdb681d4"
      },
      "source": [
        "plt.figure(figsize=(8, 8))\n",
        "sns.heatmap(df_covid.corr(), cmap='Blues', annot=True, fmt='.2f')"
      ],
      "execution_count": null,
      "outputs": [
        {
          "output_type": "execute_result",
          "data": {
            "text/plain": [
              "<matplotlib.axes._subplots.AxesSubplot at 0x7fe3e7153d50>"
            ]
          },
          "metadata": {},
          "execution_count": 28
        },
        {
          "output_type": "display_data",
          "data": {
            "image/png": "[encoded data removed]",
            "text/plain": [
              "<Figure size 576x576 with 2 Axes>"
            ]
          },
          "metadata": {
            "needs_background": "light"
          }
        }
      ]
    },
    {
      "cell_type": "markdown",
      "metadata": {
        "id": "6YkQwB4d8PL-"
      },
      "source": [
        "### 3.2. Korelasi paling positif"
      ]
    },
    {
      "cell_type": "markdown",
      "metadata": {
        "id": "QPy13y9o8hTi"
      },
      "source": [
        "Korelasi paling besar adalah antara isolated dengan acc_confirmed, dengan nilai +0.999920. \n",
        "Semakin tinggi acc_confirmed maka semakin tinggi juga isolated dan begitu juga sebaliknya"
      ]
    },
    {
      "cell_type": "markdown",
      "metadata": {
        "id": "ZcmthZZb9HTw"
      },
      "source": [
        "### 3.3. Korelasi paling negatif"
      ]
    },
    {
      "cell_type": "markdown",
      "metadata": {
        "id": "8ALXyhcu9LpB"
      },
      "source": [
        "Korelasi paling negatif adalah Positive Rate dengan Negative Rate, dengan nilai -0.896357 , yaitu jika Positive Rate nya semakin tinggi, makan Negative Rate nya akan semakin rendah.\n",
        "\n",
        "Tetapi, untuk dataset kolom yang lama (sebelum ada Positive Rate dan Negative Rate), korelasi paling negatifnya adalah being_checked dan acc_negative dengan nilai -0.613971. Semakin tinggi being_checked nya maka akan semakin rendah acc_negative nya."
      ]
    },
    {
      "cell_type": "markdown",
      "metadata": {
        "id": "JR3FYcrJ_upn"
      },
      "source": [
        "## Soal 4"
      ]
    },
    {
      "cell_type": "markdown",
      "metadata": {
        "id": "tlIPPSRK_4Ot"
      },
      "source": [
        "### 4.1. Positif / Populasi km^2"
      ]
    },
    {
      "cell_type": "code",
      "metadata": {
        "colab": {
          "base_uri": "https://localhost:8080/",
          "height": 258
        },
        "id": "gc3cnzC0AEt6",
        "outputId": "2fba52e8-c9d1-492f-8352-82cd1590808d"
      },
      "source": [
        "persen_positif = df_province['confirmed'] / df_province['population_kmsquare'] * 100\n",
        "df_province['persen_positif'] = persen_positif\n",
        "df_province.head()"
      ],
      "execution_count": null,
      "outputs": [
        {
          "output_type": "execute_result",
          "data": {
            "text/html": [
              "<div>\n",
              "<style scoped>\n",
              "    .dataframe tbody tr th:only-of-type {\n",
              "        vertical-align: middle;\n",
              "    }\n",
              "\n",
              "    .dataframe tbody tr th {\n",
              "        vertical-align: top;\n",
              "    }\n",
              "\n",
              "    .dataframe thead th {\n",
              "        text-align: right;\n",
              "    }\n",
              "</style>\n",
              "<table border=\"1\" class=\"dataframe\">\n",
              "  <thead>\n",
              "    <tr style=\"text-align: right;\">\n",
              "      <th></th>\n",
              "      <th>province_id</th>\n",
              "      <th>province_name</th>\n",
              "      <th>island</th>\n",
              "      <th>iso_code</th>\n",
              "      <th>capital_city</th>\n",
              "      <th>population</th>\n",
              "      <th>population_kmsquare</th>\n",
              "      <th>confirmed</th>\n",
              "      <th>deceased</th>\n",
              "      <th>released</th>\n",
              "      <th>longitude</th>\n",
              "      <th>latitude</th>\n",
              "      <th>persen_positif</th>\n",
              "    </tr>\n",
              "  </thead>\n",
              "  <tbody>\n",
              "    <tr>\n",
              "      <th>0</th>\n",
              "      <td>1</td>\n",
              "      <td>Aceh</td>\n",
              "      <td>Sumatra</td>\n",
              "      <td>AC</td>\n",
              "      <td>Banda Aceh</td>\n",
              "      <td>4906835</td>\n",
              "      <td>86</td>\n",
              "      <td>4</td>\n",
              "      <td>0</td>\n",
              "      <td>0</td>\n",
              "      <td>9.672.895</td>\n",
              "      <td>3.869.994</td>\n",
              "      <td>4.651163</td>\n",
              "    </tr>\n",
              "    <tr>\n",
              "      <th>1</th>\n",
              "      <td>2</td>\n",
              "      <td>Bali</td>\n",
              "      <td>Kepulauan Nusa Tenggara</td>\n",
              "      <td>BA</td>\n",
              "      <td>Denpasar</td>\n",
              "      <td>4104900</td>\n",
              "      <td>738</td>\n",
              "      <td>9</td>\n",
              "      <td>2</td>\n",
              "      <td>0</td>\n",
              "      <td>11.512.255</td>\n",
              "      <td>-825.731</td>\n",
              "      <td>1.219512</td>\n",
              "    </tr>\n",
              "    <tr>\n",
              "      <th>2</th>\n",
              "      <td>3</td>\n",
              "      <td>Banten</td>\n",
              "      <td>Jawa</td>\n",
              "      <td>BT</td>\n",
              "      <td>Serang</td>\n",
              "      <td>11704877</td>\n",
              "      <td>1298</td>\n",
              "      <td>84</td>\n",
              "      <td>4</td>\n",
              "      <td>1</td>\n",
              "      <td>106.160.889</td>\n",
              "      <td>-6.315.299</td>\n",
              "      <td>6.471495</td>\n",
              "    </tr>\n",
              "    <tr>\n",
              "      <th>3</th>\n",
              "      <td>4</td>\n",
              "      <td>Bengkulu</td>\n",
              "      <td>Sumatra</td>\n",
              "      <td>BE</td>\n",
              "      <td>Bengkulu</td>\n",
              "      <td>1844800</td>\n",
              "      <td>93</td>\n",
              "      <td>0</td>\n",
              "      <td>0</td>\n",
              "      <td>0</td>\n",
              "      <td>102.315.674</td>\n",
              "      <td>-3.414.725</td>\n",
              "      <td>0.000000</td>\n",
              "    </tr>\n",
              "    <tr>\n",
              "      <th>4</th>\n",
              "      <td>5</td>\n",
              "      <td>DI Yogyakarta</td>\n",
              "      <td>Jawa</td>\n",
              "      <td>YO</td>\n",
              "      <td>Yogyakarta</td>\n",
              "      <td>3553100</td>\n",
              "      <td>1134</td>\n",
              "      <td>22</td>\n",
              "      <td>2</td>\n",
              "      <td>1</td>\n",
              "      <td>110.390.625</td>\n",
              "      <td>-7.863.382</td>\n",
              "      <td>1.940035</td>\n",
              "    </tr>\n",
              "  </tbody>\n",
              "</table>\n",
              "</div>"
            ],
            "text/plain": [
              "   province_id  province_name  ...    latitude persen_positif\n",
              "0            1           Aceh  ...   3.869.994       4.651163\n",
              "1            2           Bali  ...    -825.731       1.219512\n",
              "2            3         Banten  ...  -6.315.299       6.471495\n",
              "3            4       Bengkulu  ...  -3.414.725       0.000000\n",
              "4            5  DI Yogyakarta  ...  -7.863.382       1.940035\n",
              "\n",
              "[5 rows x 13 columns]"
            ]
          },
          "metadata": {},
          "execution_count": 31
        }
      ]
    },
    {
      "cell_type": "markdown",
      "metadata": {
        "id": "jXAzuStWBytf"
      },
      "source": [
        "### 4.2. Visualisasi Bar Plot"
      ]
    },
    {
      "cell_type": "markdown",
      "metadata": {
        "id": "g-PCLquUDq_A"
      },
      "source": [
        "Mengambil kolom Nama Provinsi dan Persen Positif"
      ]
    },
    {
      "cell_type": "code",
      "metadata": {
        "colab": {
          "base_uri": "https://localhost:8080/",
          "height": 204
        },
        "id": "dZ0_HNWdCKLi",
        "outputId": "c82c2db1-4a45-48cd-f1de-fedfe764016f"
      },
      "source": [
        "vis_persen = df_province[['province_name', 'persen_positif']]\n",
        "vis_persen.head()"
      ],
      "execution_count": null,
      "outputs": [
        {
          "output_type": "execute_result",
          "data": {
            "text/html": [
              "<div>\n",
              "<style scoped>\n",
              "    .dataframe tbody tr th:only-of-type {\n",
              "        vertical-align: middle;\n",
              "    }\n",
              "\n",
              "    .dataframe tbody tr th {\n",
              "        vertical-align: top;\n",
              "    }\n",
              "\n",
              "    .dataframe thead th {\n",
              "        text-align: right;\n",
              "    }\n",
              "</style>\n",
              "<table border=\"1\" class=\"dataframe\">\n",
              "  <thead>\n",
              "    <tr style=\"text-align: right;\">\n",
              "      <th></th>\n",
              "      <th>province_name</th>\n",
              "      <th>persen_positif</th>\n",
              "    </tr>\n",
              "  </thead>\n",
              "  <tbody>\n",
              "    <tr>\n",
              "      <th>0</th>\n",
              "      <td>Aceh</td>\n",
              "      <td>4.651163</td>\n",
              "    </tr>\n",
              "    <tr>\n",
              "      <th>1</th>\n",
              "      <td>Bali</td>\n",
              "      <td>1.219512</td>\n",
              "    </tr>\n",
              "    <tr>\n",
              "      <th>2</th>\n",
              "      <td>Banten</td>\n",
              "      <td>6.471495</td>\n",
              "    </tr>\n",
              "    <tr>\n",
              "      <th>3</th>\n",
              "      <td>Bengkulu</td>\n",
              "      <td>0.000000</td>\n",
              "    </tr>\n",
              "    <tr>\n",
              "      <th>4</th>\n",
              "      <td>DI Yogyakarta</td>\n",
              "      <td>1.940035</td>\n",
              "    </tr>\n",
              "  </tbody>\n",
              "</table>\n",
              "</div>"
            ],
            "text/plain": [
              "   province_name  persen_positif\n",
              "0           Aceh        4.651163\n",
              "1           Bali        1.219512\n",
              "2         Banten        6.471495\n",
              "3       Bengkulu        0.000000\n",
              "4  DI Yogyakarta        1.940035"
            ]
          },
          "metadata": {},
          "execution_count": 33
        }
      ]
    },
    {
      "cell_type": "markdown",
      "metadata": {
        "id": "ntdFRMjUDuys"
      },
      "source": [
        "Visualisasi dengan Bar Plot"
      ]
    },
    {
      "cell_type": "code",
      "metadata": {
        "colab": {
          "base_uri": "https://localhost:8080/",
          "height": 645
        },
        "id": "JKpctR-SC1MS",
        "outputId": "b88312c7-5bad-440e-eaaa-8ed6a423e5d1"
      },
      "source": [
        "vis_persen.plot(kind='bar', \n",
        "                x='province_name',\n",
        "                figsize=(15,8),\n",
        "                color='salmon')\n",
        "plt.title('Persen Positif terhadap populasi/km2')\n",
        "plt.xlabel('Provinsi')\n",
        "plt.ylabel('Persentase')\n",
        "plt.show()"
      ],
      "execution_count": null,
      "outputs": [
        {
          "output_type": "display_data",
          "data": {
            "image/png": "[encoded data removed]",
            "text/plain": [
              "<Figure size 1080x576 with 1 Axes>"
            ]
          },
          "metadata": {
            "needs_background": "light"
          }
        }
      ]
    },
    {
      "cell_type": "markdown",
      "metadata": {
        "id": "0ldL3XEYDyTi"
      },
      "source": [
        "### 4.3. Tiga Provinsi dengan Nilai Persentase Terbesar"
      ]
    },
    {
      "cell_type": "code",
      "metadata": {
        "colab": {
          "base_uri": "https://localhost:8080/",
          "height": 142
        },
        "id": "VoKRZ_Y2D-Q1",
        "outputId": "99027e8f-5529-4a09-e16a-d486682399a6"
      },
      "source": [
        "vis_persen.sort_values(by='persen_positif', ascending = False).head(3)"
      ],
      "execution_count": null,
      "outputs": [
        {
          "output_type": "execute_result",
          "data": {
            "text/html": [
              "<div>\n",
              "<style scoped>\n",
              "    .dataframe tbody tr th:only-of-type {\n",
              "        vertical-align: middle;\n",
              "    }\n",
              "\n",
              "    .dataframe tbody tr th {\n",
              "        vertical-align: top;\n",
              "    }\n",
              "\n",
              "    .dataframe thead th {\n",
              "        text-align: right;\n",
              "    }\n",
              "</style>\n",
              "<table border=\"1\" class=\"dataframe\">\n",
              "  <thead>\n",
              "    <tr style=\"text-align: right;\">\n",
              "      <th></th>\n",
              "      <th>province_name</th>\n",
              "      <th>persen_positif</th>\n",
              "    </tr>\n",
              "  </thead>\n",
              "  <tbody>\n",
              "    <tr>\n",
              "      <th>23</th>\n",
              "      <td>Papua</td>\n",
              "      <td>70.000000</td>\n",
              "    </tr>\n",
              "    <tr>\n",
              "      <th>14</th>\n",
              "      <td>Kalimantan Timur</td>\n",
              "      <td>64.705882</td>\n",
              "    </tr>\n",
              "    <tr>\n",
              "      <th>5</th>\n",
              "      <td>DKI Jakarta</td>\n",
              "      <td>44.198078</td>\n",
              "    </tr>\n",
              "  </tbody>\n",
              "</table>\n",
              "</div>"
            ],
            "text/plain": [
              "       province_name  persen_positif\n",
              "23             Papua       70.000000\n",
              "14  Kalimantan Timur       64.705882\n",
              "5        DKI Jakarta       44.198078"
            ]
          },
          "metadata": {},
          "execution_count": 41
        }
      ]
    },
    {
      "cell_type": "markdown",
      "metadata": {
        "id": "8-p9bFT4FG_w"
      },
      "source": [
        "## Soal 5"
      ]
    },
    {
      "cell_type": "markdown",
      "metadata": {
        "id": "PVNHF4xNPPGH"
      },
      "source": [
        "Melakukan Group By per Pulau"
      ]
    },
    {
      "cell_type": "code",
      "metadata": {
        "colab": {
          "base_uri": "https://localhost:8080/",
          "height": 297
        },
        "id": "4XHfcplpFNH6",
        "outputId": "3c3a400d-bc6f-4f9f-a729-88947d980776"
      },
      "source": [
        "konfirmasi = df_province.groupby('island')['confirmed'].sum()\n",
        "df_konfirmasi = konfirmasi.to_frame()\n",
        "df_konfirmasi"
      ],
      "execution_count": null,
      "outputs": [
        {
          "output_type": "execute_result",
          "data": {
            "text/html": [
              "<div>\n",
              "<style scoped>\n",
              "    .dataframe tbody tr th:only-of-type {\n",
              "        vertical-align: middle;\n",
              "    }\n",
              "\n",
              "    .dataframe tbody tr th {\n",
              "        vertical-align: top;\n",
              "    }\n",
              "\n",
              "    .dataframe thead th {\n",
              "        text-align: right;\n",
              "    }\n",
              "</style>\n",
              "<table border=\"1\" class=\"dataframe\">\n",
              "  <thead>\n",
              "    <tr style=\"text-align: right;\">\n",
              "      <th></th>\n",
              "      <th>confirmed</th>\n",
              "    </tr>\n",
              "    <tr>\n",
              "      <th>island</th>\n",
              "      <th></th>\n",
              "    </tr>\n",
              "  </thead>\n",
              "  <tbody>\n",
              "    <tr>\n",
              "      <th>Jawa</th>\n",
              "      <td>911</td>\n",
              "    </tr>\n",
              "    <tr>\n",
              "      <th>Kalimantan</th>\n",
              "      <td>22</td>\n",
              "    </tr>\n",
              "    <tr>\n",
              "      <th>Kepulauan Maluku</th>\n",
              "      <td>2</td>\n",
              "    </tr>\n",
              "    <tr>\n",
              "      <th>Kepulauan Nusa Tenggara</th>\n",
              "      <td>11</td>\n",
              "    </tr>\n",
              "    <tr>\n",
              "      <th>Papua</th>\n",
              "      <td>7</td>\n",
              "    </tr>\n",
              "    <tr>\n",
              "      <th>Sulawesi</th>\n",
              "      <td>35</td>\n",
              "    </tr>\n",
              "    <tr>\n",
              "      <th>Sumatra</th>\n",
              "      <td>29</td>\n",
              "    </tr>\n",
              "  </tbody>\n",
              "</table>\n",
              "</div>"
            ],
            "text/plain": [
              "                         confirmed\n",
              "island                            \n",
              "Jawa                           911\n",
              "Kalimantan                      22\n",
              "Kepulauan Maluku                 2\n",
              "Kepulauan Nusa Tenggara         11\n",
              "Papua                            7\n",
              "Sulawesi                        35\n",
              "Sumatra                         29"
            ]
          },
          "metadata": {},
          "execution_count": 85
        }
      ]
    },
    {
      "cell_type": "markdown",
      "metadata": {
        "id": "1iOYMECqPUwJ"
      },
      "source": [
        "Visualisasi ke dalam Pie Chart"
      ]
    },
    {
      "cell_type": "code",
      "metadata": {
        "colab": {
          "base_uri": "https://localhost:8080/",
          "height": 698
        },
        "id": "I_YRqxCbGojm",
        "outputId": "2f592dd0-2ee1-4b14-8559-feaccf910d48"
      },
      "source": [
        "df_konfirmasi.plot(kind='pie',\n",
        "                    figsize=(15,8),\n",
        "                    autopct='%1.1f%%', \n",
        "                    startangle=90,    \n",
        "                    shadow=True,       \n",
        "                    labels=None,\n",
        "                    pctdistance=1.5,\n",
        "                    subplots = True\n",
        "                    )\n",
        "plt.legend(labels = df_konfirmasi.index, loc='upper left')\n",
        "plt.title(\"Konfirmasi Covid tiap Pulau\", y=1.3)\n",
        "plt.axis('equal') \n",
        "plt.show()"
      ],
      "execution_count": null,
      "outputs": [
        {
          "output_type": "stream",
          "name": "stderr",
          "text": [
            "No handles with labels found to put in legend.\n"
          ]
        },
        {
          "output_type": "display_data",
          "data": {
            "image/png": "[encoded data removed]",
            "text/plain": [
              "<Figure size 1080x576 with 1 Axes>"
            ]
          },
          "metadata": {}
        }
      ]
    }
  ]
}